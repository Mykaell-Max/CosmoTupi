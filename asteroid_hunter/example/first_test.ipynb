{
 "cells": [
  {
   "metadata": {},
   "cell_type": "markdown",
   "source": [
    "# Primeiro exemplo\n",
    "\n",
    "Exemplo de código para análise de imagens do PAN-STARRS1\n",
    "\n",
    "Este foi o primeiro teste desenvolvido para visualização das capacidades do código. Ferramentas melhores estão sendo desenvolvidas em paralelo."
   ],
   "id": "97a8b19819e93729"
  },
  {
   "metadata": {
    "collapsed": true
   },
   "cell_type": "code",
   "outputs": [],
   "execution_count": null,
   "source": [
    "from astropy.coordinates import SkyCoord\n",
    "from astropy.io import fits\n",
    "import astropy.units as u\n",
    "from astropy.time import Time\n",
    "from astropy.wcs import WCS\n",
    "import numpy as np\n",
    "from astroquery.imcce import Skybot\n",
    "from astroquery.vizier import Vizier\n",
    "import glob"
   ],
   "id": "initial_id"
  },
  {
   "metadata": {},
   "cell_type": "code",
   "outputs": [],
   "execution_count": null,
   "source": [
    "lista = glob('*.fits')\n",
    "columns = ['RA_ICRS', 'DE_ICRS', 'pmRA', 'pmDE']\n",
    "epoch = Time('J2016.0', scale='tdb')"
   ],
   "id": "17c586d37e550952"
  },
  {
   "metadata": {},
   "cell_type": "code",
   "outputs": [],
   "execution_count": null,
   "source": [
    "def create_region(image_name):\n",
    "    # Lê o header da imagem \n",
    "    header = fits.getheader(image_name)\n",
    "    time = header['DATE-OBS']\n",
    "    exp = header['EXPTIME']\n",
    "    naxis1 = int(header['NAXIS1'])\n",
    "    naxis2 = int(header['NAXIS2'])\n",
    "    cdelt = header['CDELT1']*u.deg/u.pix\n",
    "\n",
    "    obstime = Time(time) + exp*u.s/2 # Calcula o instante da imagem\n",
    "    w = WCS(header[0:30])  # Lê o World Coordinate System da imagem\n",
    "\n",
    "    b1 = w.pixel_to_world(0,0)\n",
    "    b2 = w.pixel_to_world(naxis1, naxis2)\n",
    "    center = w.pixel_to_world(naxis1/2, naxis2/2)\n",
    "    sep = b1.separation(b2)\n",
    "    print(sep)\n",
    "\n",
    "    w.wcs.crpix += np.array([57, -59])  # Offset manual para as imagens de teste\n",
    "\n",
    "    # Faz a busca pelos asteroides conhecidos no SkyBot\n",
    "    results = Skybot.cone_search(center, sep/1.8, obstime)\n",
    "    asteroides = SkyCoord(ra=results['RA'], dec=results['DEC'])\n",
    "    px, py = w.world_to_pixel(asteroides)\n",
    "    px = np.array(px, ndmin=1)\n",
    "    py = np.array(py, ndmin=1)\n",
    "    unc = results['posunc']\n",
    "\n",
    "    # Faz a busca pelas estrelas conhecidas no Vizier\n",
    "    vquery = Vizier(timeout=600, row_limit=-1, columns=columns)\n",
    "    result = vquery.query_region(center, radius=sep/1.8, catalog='I/355/gaiadr3', cache=False)[0]\n",
    "    pmra = np.nan_to_num(result['pmRA'], 0)\n",
    "    pmdec = np.nan_to_num(result['pmDE'], 0)\n",
    "    stars = SkyCoord(ra=result['RA_ICRS'], dec=result['DE_ICRS'], pm_ra_cosdec=pmra, pm_dec=pmdec, obstime=epoch)\n",
    "    obs_stars = stars.apply_space_motion(new_obstime=obstime)\n",
    "    pxs, pys = w.world_to_pixel(obs_stars)\n",
    "    pxs = np.array(pxs, ndmin=1)\n",
    "    pys = np.array(pys, ndmin=1)\n",
    "\n",
    "    # Escreve o arquivo .reg que contêm as localizações das estrelas e dos asteroides.\n",
    "    f = open(image_name[:-4] + 'reg', 'w')\n",
    "    for i in range(len(px)):\n",
    "        f.write('image; circle( {}, {}, {}) # color=red width=2 text={{{}}}\\n'.format(px[i], py[i], 5, results['Name'][i]))\n",
    "        f.write('image; circle( {}, {}, {}) # color=red width=2 dash=1\\n'.format(px[i], py[i], (unc[i]/cdelt).decompose().value))\n",
    "    for i in range(len(pxs)):\n",
    "        f.write('image; circle( {}, {}, {}) # color=green width=2\\n'.format(pxs[i], pys[i], 5))\n",
    "    f.close()"
   ],
   "id": "8cea826d8cfd8dd"
  },
  {
   "metadata": {},
   "cell_type": "code",
   "outputs": [],
   "execution_count": null,
   "source": [
    "for l in lista:\n",
    "    print(l)\n",
    "    create_region(l)"
   ],
   "id": "8cbb0de5f5e5f251"
  },
  {
   "metadata": {},
   "cell_type": "markdown",
   "source": [
    "Para visualizar a imagem com as regiões, é necessário utilizar o DS9, com o seguinte comando\n",
    "\n",
    "ds9 {nome_da_imagem}.fits -region {nome_da_imagem}.reg\n",
    "\n",
    "Caso tenha mais de uma imagem, basta fazer:\n",
    "\n",
    "ds9 {nome_da_imagem1}.fits -region {nome_da_imagem1}.reg {nome_da_imagem2}.fits -region {nome_da_imagem2}.reg {nome_da_imagem3}.fits -region {nome_da_imagem3}.reg"
   ],
   "id": "58a1d09a9c0c52e7"
  }
 ],
 "metadata": {
  "kernelspec": {
   "display_name": "Python 3",
   "language": "python",
   "name": "python3"
  },
  "language_info": {
   "codemirror_mode": {
    "name": "ipython",
    "version": 2
   },
   "file_extension": ".py",
   "mimetype": "text/x-python",
   "name": "python",
   "nbconvert_exporter": "python",
   "pygments_lexer": "ipython2",
   "version": "2.7.6"
  }
 },
 "nbformat": 4,
 "nbformat_minor": 5
}
