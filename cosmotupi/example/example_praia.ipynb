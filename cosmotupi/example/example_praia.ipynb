{
 "cells": [
  {
   "cell_type": "markdown",
   "id": "1fb30342-f204-4e7f-b926-a826a5a30843",
   "metadata": {},
   "source": [
    "# Exemplo de código rodando com o PRAIA\n",
    "\n",
    "Exte exemplo mostra como instalar o pacote, rodar o PRAIA, e gerar a região para as imagens de teste"
   ]
  },
  {
   "cell_type": "markdown",
   "id": "88bc7883-8f63-498a-8da7-ae1968c0629d",
   "metadata": {},
   "source": [
    "Para instalar o pacote, baixar o código do github\n",
    "\n",
    "https://github.com/altairgomes/AsteroidHunter\n",
    "\n",
    "Entrar na pasta onde está o arquivo `setup.py`, abrir o terminal nesta pasta e rodar o seguinte comando"
   ]
  },
  {
   "cell_type": "code",
   "execution_count": null,
   "id": "a3e53fb5-d8cf-4681-ab37-3e8c7bb6665b",
   "metadata": {},
   "outputs": [],
   "source": [
    "!pip install .\n",
    "# O ponto no final é necessário. Significa para instalar o pacote que está localizado na pasta atual."
   ]
  },
  {
   "cell_type": "markdown",
   "id": "d680639c-b8e2-41fd-bf29-8c21daf4efb1",
   "metadata": {},
   "source": [
    "### Instalando o CDS Client\n",
    "\n",
    "O CDSClient é o pacote que permite o PRAIA baixar as estrelas do catálogo Gaia-DR3 do Vizier. Só é necessário rodar estes comandos uma vez por computador.\n",
    "\n",
    "Baixar o arquivo no link: http://cdsarc.cds.unistra.fr/ftp/pub/sw/cdsclient.tar.gz\n",
    "\n",
    "Descompactar o arquivo: tar xvfz cdsclient.tar.gz\n",
    "\n",
    "Entrar na pasta até onde estão os arquivos compiláveis\n",
    "\n",
    "Abrir o terminal nesta pasta e rodar o comando: ./configure\n",
    "\n",
    "Rode o comando: make\n",
    "\n",
    "Rode o comando: make install"
   ]
  },
  {
   "cell_type": "markdown",
   "id": "83021548-2faf-43ea-a457-509d1275d1e8",
   "metadata": {},
   "source": [
    "### Rodando o PRAIA\n",
    "\n",
    "Esta etapa é necessária para gerar os arquivos de astrometria, que mapeiam as coordenadas da imagem em coordenadas celestes"
   ]
  },
  {
   "cell_type": "code",
   "execution_count": 1,
   "id": "884d9d87-af50-4238-8a2f-b87f11420076",
   "metadata": {},
   "outputs": [],
   "source": [
    "# Importa as funções que serão utilizadas\n",
    "from asteroid_hunter.astrometry.praia import compile_praia, run_praia\n",
    "from asteroid_hunter.astrometry.region import create_regions"
   ]
  },
  {
   "cell_type": "code",
   "execution_count": 2,
   "id": "8f3bb21b-caf9-499d-a5be-836624cd75e2",
   "metadata": {},
   "outputs": [],
   "source": [
    "# Este comando compila os arquivos fontes do PRAIA para gerar os executáveis\n",
    "# Tecnicamente só é necessário fazer isso uma vez por computador\n",
    "# Mas tenho que ver como fazer a compilação e deixar o compilado disponível para todas as pastas.\n",
    "compile_praia()"
   ]
  },
  {
   "cell_type": "code",
   "execution_count": 3,
   "id": "5ff4558c-af94-4618-951a-bbdb765b3214",
   "metadata": {},
   "outputs": [
    {
     "name": "stderr",
     "output_type": "stream",
     "text": [
      "#...input_file=0, list=\n",
      "#...ASU parameters being sent to vizier\n",
      "#...input_file=0, list=\n",
      "#...ASU parameters being sent to vizier\n"
     ]
    }
   ],
   "source": [
    "# Este comando roda o PRAIA na pasta atual com os arquivos de configuração do PAN-STARRS1\n",
    "# Para isso é preciso ter as imagens na pasta atual\n",
    "run_praia('PANSTARRS1')"
   ]
  },
  {
   "cell_type": "code",
   "execution_count": 4,
   "id": "f28b2555-b622-40a1-9a37-4fee99d2c871",
   "metadata": {},
   "outputs": [
    {
     "name": "stderr",
     "output_type": "stream",
     "text": [
      "/home/altair/anaconda3/envs/AsteroidHunter/lib/python3.11/site-packages/erfa/core.py:133: ErfaWarning: ERFA function \"pmsafe\" yielded 905 of \"distance overridden (Note 6)\"\n",
      "  warn(f'ERFA function \"{func_name}\" yielded {wmsg}', ErfaWarning)\n",
      "/home/altair/anaconda3/envs/AsteroidHunter/lib/python3.11/site-packages/erfa/core.py:133: ErfaWarning: ERFA function \"pmsafe\" yielded 906 of \"distance overridden (Note 6)\"\n",
      "  warn(f'ERFA function \"{func_name}\" yielded {wmsg}', ErfaWarning)\n",
      "/home/altair/anaconda3/envs/AsteroidHunter/lib/python3.11/site-packages/erfa/core.py:133: ErfaWarning: ERFA function \"pmsafe\" yielded 907 of \"distance overridden (Note 6)\"\n",
      "  warn(f'ERFA function \"{func_name}\" yielded {wmsg}', ErfaWarning)\n",
      "/home/altair/anaconda3/envs/AsteroidHunter/lib/python3.11/site-packages/erfa/core.py:133: ErfaWarning: ERFA function \"pmsafe\" yielded 906 of \"distance overridden (Note 6)\"\n",
      "  warn(f'ERFA function \"{func_name}\" yielded {wmsg}', ErfaWarning)\n"
     ]
    }
   ],
   "source": [
    "# Este comando roda a função que lê a astrometria do PRAIA e gera os arquivos das regiões\n",
    "# Contendo as estrelas GAIA e asteroides conhecidos.\n",
    "create_regions()"
   ]
  },
  {
   "metadata": {},
   "cell_type": "markdown",
   "source": [
    "Para visualizar a imagem com as regiões, é necessário utilizar o DS9, com o seguinte comando\n",
    "\n",
    "ds9 {nome_da_imagem}.fits -region {nome_da_imagem}.reg\n",
    "\n",
    "Caso tenha mais de uma imagem, basta fazer:\n",
    "\n",
    "ds9 {nome_da_imagem1}.fits -region {nome_da_imagem1}.reg {nome_da_imagem2}.fits -region {nome_da_imagem2}.reg {nome_da_imagem3}.fits -region {nome_da_imagem3}.reg"
   ],
   "id": "6115efed6d08b8c3"
  }
 ],
 "metadata": {
  "kernelspec": {
   "display_name": "Python 3 (ipykernel)",
   "language": "python",
   "name": "python3"
  },
  "language_info": {
   "codemirror_mode": {
    "name": "ipython",
    "version": 3
   },
   "file_extension": ".py",
   "mimetype": "text/x-python",
   "name": "python",
   "nbconvert_exporter": "python",
   "pygments_lexer": "ipython3",
   "version": "3.11.11"
  }
 },
 "nbformat": 4,
 "nbformat_minor": 5
}
