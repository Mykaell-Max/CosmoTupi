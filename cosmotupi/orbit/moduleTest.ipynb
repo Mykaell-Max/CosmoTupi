{
 "cells": [
  {
   "cell_type": "code",
   "execution_count": 1,
   "metadata": {},
   "outputs": [],
   "source": [
    "from datetime import datetime, timezone\n",
    "from core.orbit_processor import process_asteroid\n",
    "\n",
    "observations_apophis = [\n",
    "   {\"RA\": 61.533666, \"DEC\": 16.917944, \"timestamp\": datetime(2004, 3, 15, 2, 35, 21, 696000, tzinfo=timezone.utc)},\n",
    "   {\"RA\": 61.548958, \"DEC\": 16.920972, \"timestamp\": datetime(2004, 3, 15, 2, 58, 4, 320000, tzinfo=timezone.utc)},\n",
    "   {\"RA\": 61.562083, \"DEC\": 16.923722, \"timestamp\": datetime(2004, 3, 15, 3, 17, 34, 272000, tzinfo=timezone.utc)},\n",
    "   {\"RA\": 61.564917, \"DEC\": 16.925194, \"timestamp\": datetime(2004, 3, 15, 3, 21, 58, 848000, tzinfo=timezone.utc)},\n",
    "]\n",
    "\n",
    "observations_dz2 = [\n",
    "   {\"RA\": 123.942792, \"DEC\": 19.404944, \"timestamp\": datetime(2023, 2, 11, 5, 30, 11, tzinfo=timezone.utc)},\n",
    "   {\"RA\": 123.941458, \"DEC\": 19.405278, \"timestamp\": datetime(2023, 2, 11, 5, 37, 35, tzinfo=timezone.utc)},\n",
    "   {\"RA\": 123.940125, \"DEC\": 19.405472, \"timestamp\": datetime(2023, 2, 11, 5, 45, 1, tzinfo=timezone.utc)},\n",
    "   {\"RA\": 123.938792, \"DEC\": 19.405667, \"timestamp\": datetime(2023, 2, 11, 5, 52, 27, tzinfo=timezone.utc)},\n",
    "]"
   ]
  },
  {
   "cell_type": "code",
   "execution_count": null,
   "metadata": {},
   "outputs": [],
   "source": [
    "a, e, i, Omega, omega, theta, r_final, v_final, rms_residuo = process_asteroid(\"2023 DZ2\", observations_dz2)\n",
    "\n",
    "a_real = 2.082\n",
    "e_real = 0.5242\n",
    "i_real = 0.15\n",
    "print(\"\\nComparação com elementos reais (2023 DZ2)\")\n",
    "print(f\"a real ≈ {a_real:.4f} UA, diferença: {abs(a - a_real):.4f} UA\")\n",
    "print(f\"e real ≈ {e_real:.4f}, diferença: {abs(e - e_real):.4f}\")\n",
    "print(f\"i real ≈ {i_real:.2f}°, diferença: {abs(i - i_real):.2f}°\")"
   ]
  },
  {
   "cell_type": "code",
   "execution_count": null,
   "metadata": {},
   "outputs": [],
   "source": [
    "a, e, i, Omega, omega, theta, r_final, v_final, rms_residuo = process_asteroid(\"Apophis\", observations_apophis)\n",
    "\n",
    "a_real = 0.9223\n",
    "e_real = 0.1911\n",
    "i_real = 3.33\n",
    "print(\"\\nComparação com elementos reais (Apophis)\")\n",
    "print(f\"a real ≈ {a_real:.4f} UA, diferença: {abs(a - a_real):.4f} UA\")\n",
    "print(f\"e real ≈ {e_real:.4f}, diferença: {abs(e - e_real):.4f}\")\n",
    "print(f\"i real ≈ {i_real:.2f}°, diferença: {abs(i - i_real):.2f}°\")"
   ]
  }
 ],
 "metadata": {
  "kernelspec": {
   "display_name": "Python 3",
   "language": "python",
   "name": "python3"
  },
  "language_info": {
   "codemirror_mode": {
    "name": "ipython",
    "version": 3
   },
   "file_extension": ".py",
   "mimetype": "text/x-python",
   "name": "python",
   "nbconvert_exporter": "python",
   "pygments_lexer": "ipython3",
   "version": "3.11.5"
  }
 },
 "nbformat": 4,
 "nbformat_minor": 2
}
